{
 "cells": [
  {
   "cell_type": "markdown",
   "id": "7dca1341",
   "metadata": {},
   "source": [
    "## --------------------------------------------------------------------------------------------------------------------------------------\n",
    "# KELOMPOK 5 A2\n",
    "## --------------------------------------------------------------------------------------------------------------------------------------\n",
    "## ANGGOTA KELOMPOK :\n",
    "### Natalie Fuad                       : 2109106040 (KETUA)\n",
    "### Agustina Dwi Maharani     : 2109106037\n",
    "### Sherina Laraswati              : 21091050\n",
    "## --------------------------------------------------------------------------------------------------------------------------------------"
   ]
  },
  {
   "cell_type": "code",
   "execution_count": 31,
   "id": "2021136e",
   "metadata": {},
   "outputs": [],
   "source": [
    "import splitfolders"
   ]
  },
  {
   "cell_type": "code",
   "execution_count": 32,
   "id": "b2a57e36",
   "metadata": {},
   "outputs": [
    {
     "name": "stderr",
     "output_type": "stream",
     "text": [
      "Copying files: 4894 files [00:06, 743.37 files/s]\n"
     ]
    }
   ],
   "source": [
    "splitfolders.ratio('flowers/', output=\"dataset-output\", seed=42, ratio=(0.7,0.25,0.05), group_prefix=None)"
   ]
  },
  {
   "cell_type": "markdown",
   "id": "eb8a962f",
   "metadata": {},
   "source": [
    "## 1. IMPORT LIBRARY"
   ]
  },
  {
   "cell_type": "code",
   "execution_count": 33,
   "id": "c53794b0",
   "metadata": {},
   "outputs": [],
   "source": [
    "import os\n",
    "import pandas as pd\n",
    "import matplotlib.pyplot as plt\n",
    "import matplotlib.image as mpig\n",
    "import numpy as np\n",
    "import seaborn as sns\n",
    "import warnings\n",
    "warnings.filterwarnings('ignore')\n",
    "\n",
    "import tensorflow as tf\n",
    "from tensorflow.keras import layers, Sequential\n",
    "from tensorflow.keras.layers import Conv2D, MaxPooling2D, Dropout, Dense, Flatten\n",
    "from tensorflow.keras.preprocessing import image_dataset_from_directory\n",
    "from keras.preprocessing.image import ImageDataGenerator"
   ]
  }
 ],
 "metadata": {
  "kernelspec": {
   "display_name": "Python 3 (ipykernel)",
   "language": "python",
   "name": "python3"
  },
  "language_info": {
   "codemirror_mode": {
    "name": "ipython",
    "version": 3
   },
   "file_extension": ".py",
   "mimetype": "text/x-python",
   "name": "python",
   "nbconvert_exporter": "python",
   "pygments_lexer": "ipython3",
   "version": "3.10.7"
  },
  "vscode": {
   "interpreter": {
    "hash": "58837b1b657ea91009af8409fc244ae3b5ccf93ea980d6fb6b80adc5f697f4cc"
   }
  }
 },
 "nbformat": 4,
 "nbformat_minor": 5
}
