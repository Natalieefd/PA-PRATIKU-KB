{
 "cells": [
  {
   "cell_type": "markdown",
   "id": "7dca1341",
   "metadata": {},
   "source": [
    "## --------------------------------------------------------------------------------------------------------------------------------------\n",
    "# KELOMPOK 5 A2\n",
    "## --------------------------------------------------------------------------------------------------------------------------------------\n",
    "## ANGGOTA KELOMPOK :\n",
    "### Natalie Fuad                       : 2109106040 (KETUA)\n",
    "### Agustina Dwi Maharani     : 2109106037\n",
    "### Sherina Laraswati              : 21091050\n",
    "## --------------------------------------------------------------------------------------------------------------------------------------"
   ]
  },
  {
   "cell_type": "code",
   "execution_count": 31,
   "id": "2021136e",
   "metadata": {},
   "outputs": [],
   "source": [
    "import splitfolders"
   ]
  },
  {
   "cell_type": "code",
   "execution_count": 32,
   "id": "b2a57e36",
   "metadata": {},
   "outputs": [
    {
     "name": "stderr",
     "output_type": "stream",
     "text": [
      "Copying files: 4894 files [00:06, 743.37 files/s]\n"
     ]
    }
   ],
   "source": [
    "splitfolders.ratio('flowers/', output=\"dataset-output\", seed=42, ratio=(0.7,0.25,0.05), group_prefix=None)"
   ]
  },
  {
   "cell_type": "markdown",
   "id": "eb8a962f",
   "metadata": {},
   "source": [
    "## 1. IMPORT LIBRARY"
   ]
  },
  {
   "cell_type": "code",
   "execution_count": 33,
   "id": "c53794b0",
   "metadata": {},
   "outputs": [],
   "source": [
    "import os\n",
    "import pandas as pd\n",
    "import matplotlib.pyplot as plt\n",
    "import matplotlib.image as mpig\n",
    "import numpy as np\n",
    "import seaborn as sns\n",
    "import warnings\n",
    "warnings.filterwarnings('ignore')\n",
    "\n",
    "import tensorflow as tf\n",
    "from tensorflow.keras import layers, Sequential\n",
    "from tensorflow.keras.layers import Conv2D, MaxPooling2D, Dropout, Dense, Flatten\n",
    "from tensorflow.keras.preprocessing import image_dataset_from_directory\n",
    "from keras.preprocessing.image import ImageDataGenerator"
   ]
  },
  {
   "cell_type": "markdown",
   "id": "de2ea9c5",
   "metadata": {},
   "source": [
    "## 2. DATA COLLECTING"
   ]
  },
  {
   "cell_type": "code",
   "execution_count": 34,
   "id": "68342d44",
   "metadata": {},
   "outputs": [
    {
     "name": "stdout",
     "output_type": "stream",
     "text": [
      "Found 3424 files belonging to 3 classes.\n",
      "Found 1223 files belonging to 3 classes.\n",
      "Found 247 files belonging to 3 classes.\n"
     ]
    }
   ],
   "source": [
    "## 2. DATA COLLECTINGdata_train = image_dataset_from_directory('dataset-output/train',\n",
    "    label_mode = 'categorical',\n",
    "    batch_size = 64,\n",
    "    image_size = (150,150),\n",
    "    class_names = ['rose', 'sunflower', 'tulip'],\n",
    "    shuffle = True,\n",
    "    seed = 47\n",
    ")\n",
    "\n",
    "data_val = image_dataset_from_directory('dataset-output/val',\n",
    "    batch_size =64,                                    \n",
    "    label_mode = 'categorical',\n",
    "    class_names = ['rose', 'sunflower', 'tulip'],\n",
    "    image_size = (150,150),\n",
    "    shuffle = True,\n",
    "    seed = 47\n",
    ")\n",
    "\n",
    "data_test = image_dataset_from_directory('dataset-output/test',\n",
    "    batch_size =64,                                     \n",
    "    label_mode = 'categorical',\n",
    "    class_names = ['rose', 'sunflower', 'tulip'],\n",
    "    image_size = (150,150),\n",
    "    shuffle = True,\n",
    "    seed = 47\n",
    ")"
   ]
  }
 ],
 "metadata": {
  "kernelspec": {
   "display_name": "Python 3 (ipykernel)",
   "language": "python",
   "name": "python3"
  },
  "language_info": {
   "codemirror_mode": {
    "name": "ipython",
    "version": 3
   },
   "file_extension": ".py",
   "mimetype": "text/x-python",
   "name": "python",
   "nbconvert_exporter": "python",
   "pygments_lexer": "ipython3",
   "version": "3.10.7"
  },
  "vscode": {
   "interpreter": {
    "hash": "58837b1b657ea91009af8409fc244ae3b5ccf93ea980d6fb6b80adc5f697f4cc"
   }
  }
 },
 "nbformat": 4,
 "nbformat_minor": 5
}
